{
 "cells": [
  {
   "cell_type": "code",
   "execution_count": 2,
   "metadata": {},
   "outputs": [],
   "source": [
    "def solver(cards):\n",
    "    played = [True,False,False,False]\n",
    "    attempt = cards[0]\n",
    "    solution = str(attempt)\n",
    "    solver_helper(cards,attempt,played,solution,False)\n",
    "    "
   ]
  },
  {
   "cell_type": "code",
   "execution_count": 3,
   "metadata": {},
   "outputs": [],
   "source": [
    "def solver_helper(cards,attempt,played,solution,found):\n",
    "    \n",
    "    #if(found == False)\n",
    "    \n",
    "    if(played[0]&played[1]&played[2]&played[3]):\n",
    "        if(attempt == 24):\n",
    "            print(\"Solution is \" + solution[1:len(solution)])\n",
    "            found = True;\n",
    "            return;\n",
    "        \n",
    "    for i in range(4): \n",
    "        index = len(solution)\n",
    "        \n",
    "        if(played[i] != True):\n",
    "            played[i] = True\n",
    "\n",
    "            #1+3\n",
    "            solver_helper(cards,attempt + cards[i],played,\"(\" + solution + \" + \" + str(cards[i]) + \")\",found)\n",
    "\n",
    "            #1*3\n",
    "            solver_helper(cards,attempt * cards[i],played,\"(\" + solution + \" * \" + str(cards[i]) + \")\",found)\n",
    "            \n",
    "            #1-3 or 3-1\n",
    "            result = attempt - cards[i];\n",
    "            if (result < 0):\n",
    "                #flid a way 1-3 to 3-1\n",
    "                solver_helper(cards,cards[i] - attempt,played,\"(\" + solution + \" - \" + str(cards[i])+ \")\",found)\n",
    "            else:\n",
    "                solver_helper(cards,attempt - cards[i],played,\"(\" + solution + \" - \" + str(cards[i]) + \")\",found)\n",
    "                \n",
    "            # 1/3 or 3/1\n",
    "            if(attempt != 0 & cards[i] != 0):\n",
    "                if(attempt < cards[i]):\n",
    "                    result = cards[i] % attempt\n",
    "                    n1 = cards[i]\n",
    "                    n2 = attempt\n",
    "                else:\n",
    "                    result = attempt % cards[i]\n",
    "                    n1 = attempt\n",
    "                    n2 = cards[i]\n",
    "\n",
    "                if (result == 0):\n",
    "                    #find a way to flip if smaller than \n",
    "                    solver_helper(cards,n1/n2,played,\"(\" + solution + \" / \" + str(cards[i])+ \")\",found)\n",
    "\n",
    "            solution = solution[0:index]\n",
    "            played[i] = False\n",
    "\n",
    "        #repeat answer if we have two simiar enter"
   ]
  },
  {
   "cell_type": "code",
   "execution_count": 5,
   "metadata": {},
   "outputs": [
    {
     "name": "stdout",
     "output_type": "stream",
     "text": [
      "The First Card: 1\n",
      "The Second Card: 4\n",
      "The Third Card: 6\n",
      "The Fourth Card: 1\n",
      "Solution is ((1 + 4) - 1) * 6)\n",
      "Solution is ((1 * 4) * 6) * 1)\n",
      "Solution is ((1 * 4) * 1) * 6)\n",
      "Solution is ((1 - 4) + 1) * 6)\n",
      "Solution is ((1 + 6) - 1) * 4)\n",
      "Solution is ((1 * 6) * 4) * 1)\n",
      "Solution is ((1 * 6) * 1) * 4)\n",
      "Solution is ((1 - 6) + 1) * 4)\n",
      "Solution is ((1 * 1) * 4) * 6)\n",
      "Solution is ((1 * 1) * 6) * 4)\n",
      "Solution is ((1 - 1) + 4) * 6)\n",
      "Solution is ((1 - 1) - 4) * 6)\n",
      "Solution is ((1 - 1) + 6) * 4)\n",
      "Solution is ((1 - 1) - 6) * 4)\n"
     ]
    }
   ],
   "source": [
    "num1 = input(\"The First Card: \")\n",
    "num2 = input(\"The Second Card: \")\n",
    "num3 = input(\"The Third Card: \")\n",
    "num4 = input(\"The Fourth Card: \")\n",
    "cards = [int(num1),int(num2),int(num3),int(num4)]\n",
    "solver(cards)"
   ]
  },
  {
   "cell_type": "code",
   "execution_count": null,
   "metadata": {},
   "outputs": [],
   "source": []
  }
 ],
 "metadata": {
  "kernelspec": {
   "display_name": "Python 3",
   "language": "python",
   "name": "python3"
  },
  "language_info": {
   "codemirror_mode": {
    "name": "ipython",
    "version": 3
   },
   "file_extension": ".py",
   "mimetype": "text/x-python",
   "name": "python",
   "nbconvert_exporter": "python",
   "pygments_lexer": "ipython3",
   "version": "3.7.3"
  }
 },
 "nbformat": 4,
 "nbformat_minor": 2
}
